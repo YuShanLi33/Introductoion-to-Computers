{
  "nbformat": 4,
  "nbformat_minor": 0,
  "metadata": {
    "colab": {
      "name": "0509.ipynb",
      "provenance": [],
      "authorship_tag": "ABX9TyNipppbhBBk0M3ztJMb5+eC",
      "include_colab_link": true
    },
    "kernelspec": {
      "name": "python3",
      "display_name": "Python 3"
    },
    "language_info": {
      "name": "python"
    }
  },
  "cells": [
    {
      "cell_type": "markdown",
      "metadata": {
        "id": "view-in-github",
        "colab_type": "text"
      },
      "source": [
        "<a href=\"https://colab.research.google.com/github/YuShanLi33/Introductoion-to-Computers/blob/main/0509.ipynb\" target=\"_parent\"><img src=\"https://colab.research.google.com/assets/colab-badge.svg\" alt=\"Open In Colab\"/></a>"
      ]
    },
    {
      "cell_type": "code",
      "source": [
        "temp= float(input(\"請輸入你的體溫\"))\n",
        "if temp >= 37.5:\n",
        "    print(\"體溫過高！\")\n",
        "elif temp >= 37 and temp < 37.4:\n",
        "    print(\"體溫略高!\")\n",
        "elif temp >= 34 and temp < 36.9:\n",
        "    print(\"體溫正常!\")\n",
        "\n",
        "else:\n",
        "    print(\"體溫異常,請重新量測!\")\n"
      ],
      "metadata": {
        "colab": {
          "base_uri": "https://localhost:8080/"
        },
        "id": "YGkSfWoR789i",
        "outputId": "8a623c47-93a8-4ed5-fdf3-de0a01d5f9a6"
      },
      "execution_count": 9,
      "outputs": [
        {
          "output_type": "stream",
          "name": "stdout",
          "text": [
            "請輸入你的體溫36\n",
            "體溫正常!\n"
          ]
        }
      ]
    },
    {
      "cell_type": "code",
      "source": [
        "score = input (\"請輸入成績\")\n",
        "if (int(score) >= 90):\n",
        "    print(\"A\")\n",
        "elif (int(score) >= 80):\n",
        "    print(\"B\")\n",
        "elif (int(score) >= 70):\n",
        "    print(\"C\")\n",
        "elif (int(score) >= 60):\n",
        "    print(\"D\")\n",
        "else:\n",
        "    print(\"50\")"
      ],
      "metadata": {
        "colab": {
          "base_uri": "https://localhost:8080/"
        },
        "id": "1V7BBDP2AGR7",
        "outputId": "5d38efc1-f1ce-47fa-b73e-f4056dc94c49"
      },
      "execution_count": 10,
      "outputs": [
        {
          "output_type": "stream",
          "name": "stdout",
          "text": [
            "請輸入成績90\n",
            "A\n"
          ]
        }
      ]
    },
    {
      "cell_type": "code",
      "source": [
        "money = int(input(\"請輸入購物金額:\"))\n",
        "if (money >= 10000):\n",
        "  if(money >= 100000):\n",
        "    print(\"八折\", money *0.8, end = \"元\\n\")\n",
        "  elif(money >= 50000):\n",
        "    print(\"八五折\", money *0.85, end = \"元\\n\")\n",
        "  elif(money >= 30000):\n",
        "    print(\"九折\", money *0.9, end = \"元\\n\")\n",
        "  else:\n",
        "    print(\"九五折\", money *0.95, end = \"元\\n\")\n",
        "else:\n",
        "  print(\"沒打折\", money, end = \"元\\n\")"
      ],
      "metadata": {
        "colab": {
          "base_uri": "https://localhost:8080/"
        },
        "id": "FfiNBarBEp4g",
        "outputId": "937fc516-4bec-43be-ac6a-ecb46ab9412d"
      },
      "execution_count": 15,
      "outputs": [
        {
          "output_type": "stream",
          "name": "stdout",
          "text": [
            "請輸入購物金額:500000\n",
            "八折 400000.0元\n"
          ]
        }
      ]
    },
    {
      "cell_type": "code",
      "source": [
        "month = int(input(\"請輸入月份:\"))\n",
        "if (month >= 1 and month <=12):\n",
        "  if(month >= 3 and month <=5):\n",
        "    print(format(month)+\"月是春天\")\n",
        "  elif (month >= 6 and month <=8):\n",
        "    print(format(month)+\"月是夏天\")\n",
        "  elif (month >= 9 and month <=11):\n",
        "    print(format(month)+\"月是秋天\")\n",
        "  else:\n",
        "    print(format(month)+\"月是冬天\")\n",
        "\n",
        "else:\n",
        "  print(\"月份不在範圍內\")\n",
        "\n"
      ],
      "metadata": {
        "colab": {
          "base_uri": "https://localhost:8080/"
        },
        "id": "imRR1DIXHaiO",
        "outputId": "65152ae5-4c27-40d4-f8bf-0c4608dc149c"
      },
      "execution_count": 2,
      "outputs": [
        {
          "output_type": "stream",
          "name": "stdout",
          "text": [
            "請輸入月份:13\n",
            "月份不在範圍內\n"
          ]
        }
      ]
    },
    {
      "cell_type": "code",
      "source": [
        "income = int(input(\"請輸入今年收入淨額:\"))\n",
        "if (income >= 300000):\n",
        "  if(income >= 2000000):\n",
        "    print(\"付稅金額\", income *0.3, end = \"元\\n\")\n",
        "  elif(money >= 1000000):\n",
        "    print(\"付稅金額\", income *0.21, end = \"元\\n\")\n",
        "  elif(money >= 600000):\n",
        "    print(\"付稅金額\", income *0.13, end = \"元\\n\")\n",
        "  else:\n",
        "    print(\"付稅金額\", income *0.06, end = \"元\\n\")\n",
        "else:\n",
        "    print(\"付稅金額\", income *0.00, end = \"元\\n\")"
      ],
      "metadata": {
        "colab": {
          "base_uri": "https://localhost:8080/"
        },
        "id": "n9rUx1WfHieJ",
        "outputId": "cb51ebb3-6cd4-4a10-d457-a93e2e334b71"
      },
      "execution_count": 5,
      "outputs": [
        {
          "output_type": "stream",
          "name": "stdout",
          "text": [
            "請輸入今年收入淨額:100000\n",
            "付稅金額 0.0元\n"
          ]
        }
      ]
    },
    {
      "cell_type": "code",
      "source": [
        ""
      ],
      "metadata": {
        "id": "CmBZX9cWQG45"
      },
      "execution_count": null,
      "outputs": []
    }
  ]
}